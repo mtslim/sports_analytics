{
 "cells": [
  {
   "cell_type": "code",
   "execution_count": 2,
   "metadata": {
    "collapsed": false
   },
   "outputs": [],
   "source": [
    "import requests\n",
    "import json\n",
    "from bs4 import BeautifulSoup\n",
    "import pandas as pd\n",
    "from IPython.display import display_html\n",
    "import numpy as np"
   ]
  },
  {
   "cell_type": "markdown",
   "metadata": {},
   "source": [
    "# Football data from wikipedia\n",
    "\n",
    "The objective of this notebook is to extract information on British football teams from Wikipedia. This primarily utilises the wikipedia API to extract the data, then Beautiful soup is used to manipulate the data.\n",
    "\n",
    "## Wikipedia API\n",
    "\n",
    "The documentation for the wikipedia API is here:\n",
    "https://www.mediawiki.org/wiki/API:Main_page\n",
    "\n",
    "The inputs to the get request are:\n",
    "- URL: the wikipedia API endpoint used throughout.\n",
    "- TITLE: the title of the page to be scraped\n",
    "- PARAMS: the API takes its input through parameters provided by the query string"
   ]
  },
  {
   "cell_type": "code",
   "execution_count": 3,
   "metadata": {
    "collapsed": true
   },
   "outputs": [],
   "source": [
    "S = requests.Session() # This object allows you to persist certain parameters across requests. Results in better performance.\n",
    "\n",
    "URL = \"https://en.wikipedia.org/w/api.php\" # English wikipedia API endpoint\n",
    "\n",
    "TITLE = \"List of football clubs in England\"\n",
    "\n",
    "PARAMS = {\n",
    "    'action': 'parse', # the action is to parse the content of the page\n",
    "    'page': TITLE,\n",
    "    'format': 'json'   # the API can return other formats but they are standardising to JSON\n",
    "    #'UTF8':            # convert to UTF-8 encoding - does this work? Is it already UTF-8?\n",
    "}"
   ]
  },
  {
   "cell_type": "markdown",
   "metadata": {},
   "source": [
    "### Requesting data from a page\n",
    "Next, we must request the data from the wiki page and turn it into a python object that we can easily manipulate. We must interpret the request data as JSON in order to convert it into __class 'dict'__.\n",
    "\n",
    "The scraped data are also stored in a JSON file for future use so that we do not need to make the same request multiple times."
   ]
  },
  {
   "cell_type": "code",
   "execution_count": 3,
   "metadata": {
    "collapsed": false
   },
   "outputs": [
    {
     "data": {
      "text/plain": [
       "\"\\n# Get the response data as a python object. \\nR = S.get(url=URL, params=PARAMS)\\nDATA = R.json() # Interpret the request data as json: print(type(DATA)) --> <class 'dict'>\\n\\n# Write to JSON file\\nwith open('list_clubs_in_england.json', 'w') as f:\\n    json.dump(DATA, f)\\n\""
      ]
     },
     "execution_count": 3,
     "metadata": {},
     "output_type": "execute_result"
    }
   ],
   "source": [
    "'''\n",
    "# Get the response data as a python object. \n",
    "R = S.get(url=URL, params=PARAMS)\n",
    "DATA = R.json() # Interpret the request data as json: print(type(DATA)) --> <class 'dict'>\n",
    "\n",
    "# Write to JSON file\n",
    "with open('list_clubs_in_england.json', 'w') as f:\n",
    "    json.dump(DATA, f)\n",
    "'''"
   ]
  },
  {
   "cell_type": "code",
   "execution_count": 4,
   "metadata": {
    "collapsed": false
   },
   "outputs": [],
   "source": [
    "# Read JSON file\n",
    "with open('list_clubs_in_england.json') as data_file:\n",
    "    DATA = json.load(data_file)"
   ]
  },
  {
   "cell_type": "markdown",
   "metadata": {},
   "source": [
    "### The data structure within the dictionary object:"
   ]
  },
  {
   "cell_type": "code",
   "execution_count": 5,
   "metadata": {
    "collapsed": false
   },
   "outputs": [
    {
     "data": {
      "text/plain": [
       "dict_keys(['parse'])"
      ]
     },
     "execution_count": 5,
     "metadata": {},
     "output_type": "execute_result"
    }
   ],
   "source": [
    "DATA.keys()"
   ]
  },
  {
   "cell_type": "code",
   "execution_count": 6,
   "metadata": {
    "collapsed": false
   },
   "outputs": [
    {
     "data": {
      "text/plain": [
       "dict_keys(['iwlinks', 'langlinks', 'sections', 'text', 'templates', 'categories', 'pageid', 'revid', 'displaytitle', 'links', 'externallinks', 'parsewarnings', 'properties', 'title', 'images'])"
      ]
     },
     "execution_count": 6,
     "metadata": {},
     "output_type": "execute_result"
    }
   ],
   "source": [
    "parse=DATA['parse']\n",
    "parse.keys()"
   ]
  },
  {
   "cell_type": "code",
   "execution_count": 7,
   "metadata": {
    "collapsed": false
   },
   "outputs": [
    {
     "data": {
      "text/plain": [
       "str"
      ]
     },
     "execution_count": 7,
     "metadata": {},
     "output_type": "execute_result"
    }
   ],
   "source": [
    "text = parse['text']\n",
    "type(text['*'])"
   ]
  },
  {
   "cell_type": "markdown",
   "metadata": {},
   "source": [
    "### Manipulating the html\n",
    "\n",
    "#### Defining the function(s)\n",
    "Here is the original code where the following functions are defined: https://srome.github.io/Parsing-HTML-Tables-in-Python-with-BeautifulSoup-and-pandas/\n",
    "\n",
    "We don't need to use the 'parse_url' function since we have to parse the URL differently. In future we should write our own version of the function though - essentially one function call to produce the desired table.\n",
    "\n",
    "Currently this function does not quite work as required, the number of columns does not work automatically and must be manually entered."
   ]
  },
  {
   "cell_type": "code",
   "execution_count": 37,
   "metadata": {
    "collapsed": false
   },
   "outputs": [],
   "source": [
    "#def parse_url(self, url):\n",
    "#    response = requests.get(url)\n",
    "#    soup = BeautifulSoup(response.text, 'lxml')\n",
    "#    return [(table['id'],self.parse_html_table(table))\\\n",
    "#            for table in soup.find_all('table')]  \n",
    "\n",
    "def parse_html_table(self, table, def_cols = -1):\n",
    "    n_columns = 0\n",
    "    n_rows=0\n",
    "    column_names = []\n",
    "\n",
    "    # Find number of rows and columns\n",
    "    # we also find the column titles if we can\n",
    "    for row in table.find_all('tr'):\n",
    "\n",
    "        # Determine the number of rows in the table\n",
    "        td_tags = row.find_all('td')\n",
    "        if len(td_tags) > 0:\n",
    "            n_rows+=1\n",
    "            if n_columns == 0:\n",
    "                # Set the number of columns for our table\n",
    "                if (def_cols == -1):\n",
    "                    n_columns = len(td_tags)\n",
    "                else:\n",
    "                    n_columns = def_cols\n",
    "\n",
    "        # Handle column names if we find them\n",
    "        th_tags = row.find_all('th') \n",
    "        if len(th_tags) > 0 and len(column_names) == 0:\n",
    "            for th in th_tags:\n",
    "                column_names.append(th.get_text().strip())\n",
    "\n",
    "    # Safeguard on Column Titles\n",
    "    if len(column_names) > 0 and len(column_names) != n_columns:\n",
    "        raise Exception(\"Column titles do not match the number of columns\")\n",
    "\n",
    "    columns = column_names if len(column_names) > 0 else range(0,n_columns)\n",
    "    df = pd.DataFrame(columns = columns,\n",
    "                      index= range(0,n_rows))\n",
    "    row_marker = 0\n",
    "    for row in table.find_all('tr'):\n",
    "        column_marker = 0\n",
    "        columns = row.find_all('td')\n",
    "        for column in columns:\n",
    "            df.iat[row_marker,column_marker] = column.get_text().strip()\n",
    "            column_marker += 1\n",
    "        if len(columns) > 0:\n",
    "            row_marker += 1\n",
    "\n",
    "    # Convert to float if possible\n",
    "    for col in df:\n",
    "        try:\n",
    "            df[col] = df[col].astype(float)\n",
    "        except ValueError:\n",
    "            pass\n",
    "\n",
    "    return df"
   ]
  },
  {
   "cell_type": "markdown",
   "metadata": {},
   "source": [
    "#### Producing the pandas dataframe"
   ]
  },
  {
   "cell_type": "code",
   "execution_count": 15,
   "metadata": {
    "collapsed": false
   },
   "outputs": [
    {
     "name": "stdout",
     "output_type": "stream",
     "text": [
      "Number of tables found :  31\n"
     ]
    }
   ],
   "source": [
    "# Parsing the HTML using Beautiful Soup\n",
    "soup = BeautifulSoup(DATA['parse']['text']['*'], \"html.parser\")\n",
    "# print(soup.prettify())\n",
    "\n",
    "# Extract all of the tables from the soup and put them into separate elements of a list\n",
    "alltables = soup.findAll('table')\n",
    "print(\"Number of tables found : \" , len(alltables))"
   ]
  },
  {
   "cell_type": "code",
   "execution_count": 78,
   "metadata": {
    "collapsed": false
   },
   "outputs": [
    {
     "data": {
      "text/html": [
       "<div>\n",
       "<style>\n",
       "    .dataframe thead tr:only-child th {\n",
       "        text-align: right;\n",
       "    }\n",
       "\n",
       "    .dataframe thead th {\n",
       "        text-align: left;\n",
       "    }\n",
       "\n",
       "    .dataframe tbody tr th {\n",
       "        vertical-align: top;\n",
       "    }\n",
       "</style>\n",
       "<table border=\"1\" class=\"dataframe\">\n",
       "  <thead>\n",
       "    <tr style=\"text-align: right;\">\n",
       "      <th></th>\n",
       "      <th>Club</th>\n",
       "      <th>League/Division</th>\n",
       "      <th>Lvl</th>\n",
       "      <th>Nickname</th>\n",
       "      <th>Change from 2017–18</th>\n",
       "    </tr>\n",
       "  </thead>\n",
       "  <tbody>\n",
       "    <tr>\n",
       "      <th>0</th>\n",
       "      <td>A.F.C. Aldermaston</td>\n",
       "      <td>Hellenic League Division One East</td>\n",
       "      <td>10.0</td>\n",
       "      <td>Atom Men</td>\n",
       "      <td>NaN</td>\n",
       "    </tr>\n",
       "    <tr>\n",
       "      <th>1</th>\n",
       "      <td>A.F.C. Blackpool</td>\n",
       "      <td>North West Counties League Division One North</td>\n",
       "      <td>10.0</td>\n",
       "      <td>Mechanics</td>\n",
       "      <td>NaN</td>\n",
       "    </tr>\n",
       "    <tr>\n",
       "      <th>2</th>\n",
       "      <td>A.F.C. Bournemouth</td>\n",
       "      <td>Premier League</td>\n",
       "      <td>1.0</td>\n",
       "      <td>Cherries</td>\n",
       "      <td>NaN</td>\n",
       "    </tr>\n",
       "    <tr>\n",
       "      <th>3</th>\n",
       "      <td>A.F.C. Bridgnorth</td>\n",
       "      <td>West Midlands (Regional) League Premier Division</td>\n",
       "      <td>10.0</td>\n",
       "      <td>Meadow Men</td>\n",
       "      <td>NaN</td>\n",
       "    </tr>\n",
       "    <tr>\n",
       "      <th>4</th>\n",
       "      <td>A.F.C. Croydon Athletic</td>\n",
       "      <td>Southern Counties East League Premier Division</td>\n",
       "      <td>9.0</td>\n",
       "      <td>Rams</td>\n",
       "      <td>NaN</td>\n",
       "    </tr>\n",
       "  </tbody>\n",
       "</table>\n",
       "</div>"
      ],
      "text/plain": [
       "                      Club                                   League/Division  \\\n",
       "0       A.F.C. Aldermaston                 Hellenic League Division One East   \n",
       "1         A.F.C. Blackpool     North West Counties League Division One North   \n",
       "2       A.F.C. Bournemouth                                    Premier League   \n",
       "3        A.F.C. Bridgnorth  West Midlands (Regional) League Premier Division   \n",
       "4  A.F.C. Croydon Athletic    Southern Counties East League Premier Division   \n",
       "\n",
       "    Lvl    Nickname Change from 2017–18  \n",
       "0  10.0    Atom Men                 NaN  \n",
       "1  10.0   Mechanics                 NaN  \n",
       "2   1.0    Cherries                 NaN  \n",
       "3  10.0  Meadow Men                 NaN  \n",
       "4   9.0        Rams                 NaN  "
      ]
     },
     "execution_count": 78,
     "metadata": {},
     "output_type": "execute_result"
    }
   ],
   "source": [
    "# Call our function on each table within the list to produce a list of pandas tables\n",
    "# We are only interested in the tables containing team names (tables 1-25)\n",
    "alltab_parse=[parse_html_table(alltables[tab], alltables[tab], 5) for tab in range(1,25)] \n",
    "\n",
    "# Concatenate the results into a single pandas dataframe\n",
    "result = pd.concat(alltab_parse).reset_index(drop=True)\n",
    "result.head()"
   ]
  },
  {
   "cell_type": "code",
   "execution_count": 17,
   "metadata": {
    "collapsed": false
   },
   "outputs": [
    {
     "data": {
      "text/plain": [
       "Index(['Club', 'League/Division', 'Lvl', 'Nickname', 'Change from 2017–18'], dtype='object')"
      ]
     },
     "execution_count": 17,
     "metadata": {},
     "output_type": "execute_result"
    }
   ],
   "source": [
    "result.keys()\n"
   ]
  },
  {
   "cell_type": "code",
   "execution_count": 18,
   "metadata": {
    "collapsed": false
   },
   "outputs": [
    {
     "data": {
      "text/plain": [
       "20"
      ]
     },
     "execution_count": 18,
     "metadata": {},
     "output_type": "execute_result"
    }
   ],
   "source": [
    "# There are 20 teams in the Premier League\n",
    "prem_teams = result.loc[result['League/Division'] == 'Premier League']\n",
    "len(prem_teams.index)"
   ]
  },
  {
   "cell_type": "markdown",
   "metadata": {},
   "source": [
    "## Extract team information on Premier League"
   ]
  },
  {
   "cell_type": "code",
   "execution_count": 24,
   "metadata": {
    "collapsed": false
   },
   "outputs": [],
   "source": [
    "'''\n",
    "# Extract data on all Premier League teams, convert from JSON to dictionary structure. Store each dictionary structure in a list\n",
    "club_data_json = [(S.get(url=URL, params={'action': \"parse\",'page': row.Club,'format': \"json\"})).json() for row in prem_teams.itertuples()]\n",
    "\n",
    "# Write to a file. Each teams data is written on a single line\n",
    "with open('premier_league_club_data.json', 'w') as f:\n",
    "    json.dump(club_data_json, f)\n",
    "'''"
   ]
  },
  {
   "cell_type": "code",
   "execution_count": 49,
   "metadata": {
    "collapsed": false
   },
   "outputs": [],
   "source": [
    "with open('premier_league_club_data.json') as f:\n",
    "    club_data_json = json.load(f)"
   ]
  },
  {
   "cell_type": "code",
   "execution_count": 59,
   "metadata": {
    "collapsed": false
   },
   "outputs": [
    {
     "data": {
      "text/html": [
       "<table border=\"0\">\n",
       "<tbody><tr>\n",
       "<td style=\"background-color:#FFFFFF;vertical-align:top;\" width=\"48%\">\n",
       "<table border=\"0\" cellpadding=\"2\" cellspacing=\"0\">\n",
       "<tbody><tr style=\"background-color:#AAD0FF\">\n",
       "<th width=\"1%\">No.\n",
       "</th>\n",
       "<th width=\"1%\">\n",
       "</th>\n",
       "<th width=\"1%\">Position\n",
       "</th>\n",
       "<th width=\"75%\">Player\n",
       "</th></tr>\n",
       "<tr class=\"vcard agent\">\n",
       "<td style=\"text-align: right;\">1\n",
       "</td>\n",
       "<td style=\"text-align: right;\"><span class=\"flagicon\"><a href=\"/wiki/Poland\" title=\"Poland\"><img alt=\"Poland\" class=\"thumbborder\" data-file-height=\"800\" data-file-width=\"1280\" height=\"14\" src=\"//upload.wikimedia.org/wikipedia/en/thumb/1/12/Flag_of_Poland.svg/23px-Flag_of_Poland.svg.png\" srcset=\"//upload.wikimedia.org/wikipedia/en/thumb/1/12/Flag_of_Poland.svg/35px-Flag_of_Poland.svg.png 1.5x, //upload.wikimedia.org/wikipedia/en/thumb/1/12/Flag_of_Poland.svg/46px-Flag_of_Poland.svg.png 2x\" width=\"23\"/></a></span>\n",
       "</td>\n",
       "<td style=\"text-align: center;\"><a href=\"/wiki/Goalkeeper_(association_football)\" title=\"Goalkeeper (association football)\">GK</a>\n",
       "</td>\n",
       "<td><span class=\"fn\"><a href=\"/wiki/Artur_Boruc\" title=\"Artur Boruc\">Artur Boruc</a></span>\n",
       "</td></tr>\n",
       "<tr class=\"vcard agent\">\n",
       "<td style=\"text-align: right;\">2\n",
       "</td>\n",
       "<td style=\"text-align: right;\"><span class=\"flagicon\"><a href=\"/wiki/England\" title=\"England\"><img alt=\"England\" class=\"thumbborder\" data-file-height=\"480\" data-file-width=\"800\" height=\"14\" src=\"//upload.wikimedia.org/wikipedia/en/thumb/b/be/Flag_of_England.svg/23px-Flag_of_England.svg.png\" srcset=\"//upload.wikimedia.org/wikipedia/en/thumb/b/be/Flag_of_England.svg/35px-Flag_of_England.svg.png 1.5x, //upload.wikimedia.org/wikipedia/en/thumb/b/be/Flag_of_England.svg/46px-Flag_of_England.svg.png 2x\" width=\"23\"/></a></span>\n",
       "</td>\n",
       "<td style=\"text-align: center;\"><a href=\"/wiki/Defender_(association_football)\" title=\"Defender (association football)\">DF</a>\n",
       "</td>\n",
       "<td><span class=\"fn\"><a href=\"/wiki/Simon_Francis_(footballer)\" title=\"Simon Francis (footballer)\">Simon Francis</a></span> <i>(<a href=\"/wiki/Captain_(association_football)\" title=\"Captain (association football)\">captain</a>)</i><sup class=\"reference\" id=\"cite_ref-captain_31-0\"><a href=\"#cite_note-captain-31\">[31]</a></sup>\n",
       "</td></tr>\n",
       "<tr class=\"vcard agent\">\n",
       "<td style=\"text-align: right;\">3\n",
       "</td>\n",
       "<td style=\"text-align: right;\"><span class=\"flagicon\"><a href=\"/wiki/England\" title=\"England\"><img alt=\"England\" class=\"thumbborder\" data-file-height=\"480\" data-file-width=\"800\" height=\"14\" src=\"//upload.wikimedia.org/wikipedia/en/thumb/b/be/Flag_of_England.svg/23px-Flag_of_England.svg.png\" srcset=\"//upload.wikimedia.org/wikipedia/en/thumb/b/be/Flag_of_England.svg/35px-Flag_of_England.svg.png 1.5x, //upload.wikimedia.org/wikipedia/en/thumb/b/be/Flag_of_England.svg/46px-Flag_of_England.svg.png 2x\" width=\"23\"/></a></span>\n",
       "</td>\n",
       "<td style=\"text-align: center;\"><a href=\"/wiki/Defender_(association_football)\" title=\"Defender (association football)\">DF</a>\n",
       "</td>\n",
       "<td><span class=\"fn\"><a href=\"/wiki/Steve_Cook_(footballer)\" title=\"Steve Cook (footballer)\">Steve Cook</a></span> <i>(<a href=\"/wiki/Captain_(association_football)\" title=\"Captain (association football)\">2nd vice-captain</a>)</i>\n",
       "</td></tr>\n",
       "<tr class=\"vcard agent\">\n",
       "<td style=\"text-align: right;\">4\n",
       "</td>\n",
       "<td style=\"text-align: right;\"><span class=\"flagicon\"><a href=\"/wiki/England\" title=\"England\"><img alt=\"England\" class=\"thumbborder\" data-file-height=\"480\" data-file-width=\"800\" height=\"14\" src=\"//upload.wikimedia.org/wikipedia/en/thumb/b/be/Flag_of_England.svg/23px-Flag_of_England.svg.png\" srcset=\"//upload.wikimedia.org/wikipedia/en/thumb/b/be/Flag_of_England.svg/35px-Flag_of_England.svg.png 1.5x, //upload.wikimedia.org/wikipedia/en/thumb/b/be/Flag_of_England.svg/46px-Flag_of_England.svg.png 2x\" width=\"23\"/></a></span>\n",
       "</td>\n",
       "<td style=\"text-align: center;\"><a href=\"/wiki/Midfielder\" title=\"Midfielder\">MF</a>\n",
       "</td>\n",
       "<td><span class=\"fn\"><a href=\"/wiki/Dan_Gosling\" title=\"Dan Gosling\">Dan Gosling</a></span>\n",
       "</td></tr>\n",
       "<tr class=\"vcard agent\">\n",
       "<td style=\"text-align: right;\">5\n",
       "</td>\n",
       "<td style=\"text-align: right;\"><span class=\"flagicon\"><a href=\"/wiki/Netherlands\" title=\"Netherlands\"><img alt=\"Netherlands\" class=\"thumbborder\" data-file-height=\"600\" data-file-width=\"900\" height=\"15\" src=\"//upload.wikimedia.org/wikipedia/commons/thumb/2/20/Flag_of_the_Netherlands.svg/23px-Flag_of_the_Netherlands.svg.png\" srcset=\"//upload.wikimedia.org/wikipedia/commons/thumb/2/20/Flag_of_the_Netherlands.svg/35px-Flag_of_the_Netherlands.svg.png 1.5x, //upload.wikimedia.org/wikipedia/commons/thumb/2/20/Flag_of_the_Netherlands.svg/45px-Flag_of_the_Netherlands.svg.png 2x\" width=\"23\"/></a></span>\n",
       "</td>\n",
       "<td style=\"text-align: center;\"><a href=\"/wiki/Defender_(association_football)\" title=\"Defender (association football)\">DF</a>\n",
       "</td>\n",
       "<td><span class=\"fn\"><a href=\"/wiki/Nathan_Ak%C3%A9\" title=\"Nathan Aké\">Nathan Aké</a></span>\n",
       "</td></tr>\n",
       "<tr class=\"vcard agent\">\n",
       "<td style=\"text-align: right;\">6\n",
       "</td>\n",
       "<td style=\"text-align: right;\"><span class=\"flagicon\"><a href=\"/wiki/England\" title=\"England\"><img alt=\"England\" class=\"thumbborder\" data-file-height=\"480\" data-file-width=\"800\" height=\"14\" src=\"//upload.wikimedia.org/wikipedia/en/thumb/b/be/Flag_of_England.svg/23px-Flag_of_England.svg.png\" srcset=\"//upload.wikimedia.org/wikipedia/en/thumb/b/be/Flag_of_England.svg/35px-Flag_of_England.svg.png 1.5x, //upload.wikimedia.org/wikipedia/en/thumb/b/be/Flag_of_England.svg/46px-Flag_of_England.svg.png 2x\" width=\"23\"/></a></span>\n",
       "</td>\n",
       "<td style=\"text-align: center;\"><a href=\"/wiki/Midfielder\" title=\"Midfielder\">MF</a>\n",
       "</td>\n",
       "<td><span class=\"fn\"><a href=\"/wiki/Andrew_Surman\" title=\"Andrew Surman\">Andrew Surman</a></span> <i>(<a href=\"/wiki/Captain_(association_football)\" title=\"Captain (association football)\">vice-captain</a>)</i><sup class=\"reference\" id=\"cite_ref-captain_31-1\"><a href=\"#cite_note-captain-31\">[31]</a></sup>\n",
       "</td></tr>\n",
       "<tr class=\"vcard agent\">\n",
       "<td style=\"text-align: right;\">7\n",
       "</td>\n",
       "<td style=\"text-align: right;\"><span class=\"flagicon\"><a href=\"/wiki/England\" title=\"England\"><img alt=\"England\" class=\"thumbborder\" data-file-height=\"480\" data-file-width=\"800\" height=\"14\" src=\"//upload.wikimedia.org/wikipedia/en/thumb/b/be/Flag_of_England.svg/23px-Flag_of_England.svg.png\" srcset=\"//upload.wikimedia.org/wikipedia/en/thumb/b/be/Flag_of_England.svg/35px-Flag_of_England.svg.png 1.5x, //upload.wikimedia.org/wikipedia/en/thumb/b/be/Flag_of_England.svg/46px-Flag_of_England.svg.png 2x\" width=\"23\"/></a></span>\n",
       "</td>\n",
       "<td style=\"text-align: center;\"><a href=\"/wiki/Midfielder\" title=\"Midfielder\">MF</a>\n",
       "</td>\n",
       "<td><span class=\"fn\"><a href=\"/wiki/Marc_Pugh\" title=\"Marc Pugh\">Marc Pugh</a></span>\n",
       "</td></tr>\n",
       "<tr class=\"vcard agent\">\n",
       "<td style=\"text-align: right;\">8\n",
       "</td>\n",
       "<td style=\"text-align: right;\"><span class=\"flagicon\"><a href=\"/wiki/Colombia\" title=\"Colombia\"><img alt=\"Colombia\" class=\"thumbborder\" data-file-height=\"300\" data-file-width=\"450\" height=\"15\" src=\"//upload.wikimedia.org/wikipedia/commons/thumb/2/21/Flag_of_Colombia.svg/23px-Flag_of_Colombia.svg.png\" srcset=\"//upload.wikimedia.org/wikipedia/commons/thumb/2/21/Flag_of_Colombia.svg/35px-Flag_of_Colombia.svg.png 1.5x, //upload.wikimedia.org/wikipedia/commons/thumb/2/21/Flag_of_Colombia.svg/45px-Flag_of_Colombia.svg.png 2x\" width=\"23\"/></a></span>\n",
       "</td>\n",
       "<td style=\"text-align: center;\"><a href=\"/wiki/Midfielder\" title=\"Midfielder\">MF</a>\n",
       "</td>\n",
       "<td><span class=\"fn\"><a href=\"/wiki/Jefferson_Lerma\" title=\"Jefferson Lerma\">Jefferson Lerma</a></span>\n",
       "</td></tr>\n",
       "<tr class=\"vcard agent\">\n",
       "<td style=\"text-align: right;\">9\n",
       "</td>\n",
       "<td style=\"text-align: right;\"><span class=\"flagicon\"><a href=\"/wiki/France\" title=\"France\"><img alt=\"France\" class=\"thumbborder\" data-file-height=\"600\" data-file-width=\"900\" height=\"15\" src=\"//upload.wikimedia.org/wikipedia/en/thumb/c/c3/Flag_of_France.svg/23px-Flag_of_France.svg.png\" srcset=\"//upload.wikimedia.org/wikipedia/en/thumb/c/c3/Flag_of_France.svg/35px-Flag_of_France.svg.png 1.5x, //upload.wikimedia.org/wikipedia/en/thumb/c/c3/Flag_of_France.svg/45px-Flag_of_France.svg.png 2x\" width=\"23\"/></a></span>\n",
       "</td>\n",
       "<td style=\"text-align: center;\"><a href=\"/wiki/Forward_(association_football)\" title=\"Forward (association football)\">FW</a>\n",
       "</td>\n",
       "<td><span class=\"fn\"><a href=\"/wiki/Lys_Mousset\" title=\"Lys Mousset\">Lys Mousset</a></span>\n",
       "</td></tr>\n",
       "<tr class=\"vcard agent\">\n",
       "<td style=\"text-align: right;\">10\n",
       "</td>\n",
       "<td style=\"text-align: right;\"><span class=\"flagicon\"><a href=\"/wiki/England\" title=\"England\"><img alt=\"England\" class=\"thumbborder\" data-file-height=\"480\" data-file-width=\"800\" height=\"14\" src=\"//upload.wikimedia.org/wikipedia/en/thumb/b/be/Flag_of_England.svg/23px-Flag_of_England.svg.png\" srcset=\"//upload.wikimedia.org/wikipedia/en/thumb/b/be/Flag_of_England.svg/35px-Flag_of_England.svg.png 1.5x, //upload.wikimedia.org/wikipedia/en/thumb/b/be/Flag_of_England.svg/46px-Flag_of_England.svg.png 2x\" width=\"23\"/></a></span>\n",
       "</td>\n",
       "<td style=\"text-align: center;\"><a href=\"/wiki/Midfielder\" title=\"Midfielder\">MF</a>\n",
       "</td>\n",
       "<td><span class=\"fn\"><a href=\"/wiki/Jordon_Ibe\" title=\"Jordon Ibe\">Jordon Ibe</a></span>\n",
       "</td></tr>\n",
       "<tr class=\"vcard agent\">\n",
       "<td style=\"text-align: right;\">11\n",
       "</td>\n",
       "<td style=\"text-align: right;\"><span class=\"flagicon\"><a href=\"/wiki/England\" title=\"England\"><img alt=\"England\" class=\"thumbborder\" data-file-height=\"480\" data-file-width=\"800\" height=\"14\" src=\"//upload.wikimedia.org/wikipedia/en/thumb/b/be/Flag_of_England.svg/23px-Flag_of_England.svg.png\" srcset=\"//upload.wikimedia.org/wikipedia/en/thumb/b/be/Flag_of_England.svg/35px-Flag_of_England.svg.png 1.5x, //upload.wikimedia.org/wikipedia/en/thumb/b/be/Flag_of_England.svg/46px-Flag_of_England.svg.png 2x\" width=\"23\"/></a></span>\n",
       "</td>\n",
       "<td style=\"text-align: center;\"><a href=\"/wiki/Defender_(association_football)\" title=\"Defender (association football)\">DF</a>\n",
       "</td>\n",
       "<td><span class=\"fn\"><a href=\"/wiki/Charlie_Daniels_(footballer)\" title=\"Charlie Daniels (footballer)\">Charlie Daniels</a></span>\n",
       "</td></tr>\n",
       "<tr class=\"vcard agent\">\n",
       "<td style=\"text-align: right;\">12\n",
       "</td>\n",
       "<td style=\"text-align: right;\"><span class=\"flagicon\"><a href=\"/wiki/England\" title=\"England\"><img alt=\"England\" class=\"thumbborder\" data-file-height=\"480\" data-file-width=\"800\" height=\"14\" src=\"//upload.wikimedia.org/wikipedia/en/thumb/b/be/Flag_of_England.svg/23px-Flag_of_England.svg.png\" srcset=\"//upload.wikimedia.org/wikipedia/en/thumb/b/be/Flag_of_England.svg/35px-Flag_of_England.svg.png 1.5x, //upload.wikimedia.org/wikipedia/en/thumb/b/be/Flag_of_England.svg/46px-Flag_of_England.svg.png 2x\" width=\"23\"/></a></span>\n",
       "</td>\n",
       "<td style=\"text-align: center;\"><a href=\"/wiki/Goalkeeper_(association_football)\" title=\"Goalkeeper (association football)\">GK</a>\n",
       "</td>\n",
       "<td><span class=\"fn\"><a href=\"/wiki/Aaron_Ramsdale\" title=\"Aaron Ramsdale\">Aaron Ramsdale</a></span>\n",
       "</td></tr></tbody></table>\n",
       "</td>\n",
       "<td width=\"1%\">\n",
       "</td>\n",
       "<td style=\"background-color:#FFFFFF;vertical-align:top;\" width=\"48%\">\n",
       "<table border=\"0\" cellpadding=\"2\" cellspacing=\"0\">\n",
       "<tbody><tr style=\"background-color:#AAD0FF\">\n",
       "<th width=\"1%\">No.\n",
       "</th>\n",
       "<th width=\"1%\">\n",
       "</th>\n",
       "<th width=\"1%\">Position\n",
       "</th>\n",
       "<th width=\"75%\">Player\n",
       "</th></tr>\n",
       "<tr class=\"vcard agent\">\n",
       "<td style=\"text-align: right;\">13\n",
       "</td>\n",
       "<td style=\"text-align: right;\"><span class=\"flagicon\"><a href=\"/wiki/England\" title=\"England\"><img alt=\"England\" class=\"thumbborder\" data-file-height=\"480\" data-file-width=\"800\" height=\"14\" src=\"//upload.wikimedia.org/wikipedia/en/thumb/b/be/Flag_of_England.svg/23px-Flag_of_England.svg.png\" srcset=\"//upload.wikimedia.org/wikipedia/en/thumb/b/be/Flag_of_England.svg/35px-Flag_of_England.svg.png 1.5x, //upload.wikimedia.org/wikipedia/en/thumb/b/be/Flag_of_England.svg/46px-Flag_of_England.svg.png 2x\" width=\"23\"/></a></span>\n",
       "</td>\n",
       "<td style=\"text-align: center;\"><a href=\"/wiki/Forward_(association_football)\" title=\"Forward (association football)\">FW</a>\n",
       "</td>\n",
       "<td><span class=\"fn\"><a class=\"mw-redirect\" href=\"/wiki/Callum_Wilson_(English_footballer)\" title=\"Callum Wilson (English footballer)\">Callum Wilson</a></span>\n",
       "</td></tr>\n",
       "<tr class=\"vcard agent\">\n",
       "<td style=\"text-align: right;\">15\n",
       "</td>\n",
       "<td style=\"text-align: right;\"><span class=\"flagicon\"><a href=\"/wiki/England\" title=\"England\"><img alt=\"England\" class=\"thumbborder\" data-file-height=\"480\" data-file-width=\"800\" height=\"14\" src=\"//upload.wikimedia.org/wikipedia/en/thumb/b/be/Flag_of_England.svg/23px-Flag_of_England.svg.png\" srcset=\"//upload.wikimedia.org/wikipedia/en/thumb/b/be/Flag_of_England.svg/35px-Flag_of_England.svg.png 1.5x, //upload.wikimedia.org/wikipedia/en/thumb/b/be/Flag_of_England.svg/46px-Flag_of_England.svg.png 2x\" width=\"23\"/></a></span>\n",
       "</td>\n",
       "<td style=\"text-align: center;\"><a href=\"/wiki/Defender_(association_football)\" title=\"Defender (association football)\">DF</a>\n",
       "</td>\n",
       "<td><span class=\"fn\"><a href=\"/wiki/Adam_Smith_(footballer,_born_1991)\" title=\"Adam Smith (footballer, born 1991)\">Adam Smith</a></span>\n",
       "</td></tr>\n",
       "<tr class=\"vcard agent\">\n",
       "<td style=\"text-align: right;\">16\n",
       "</td>\n",
       "<td style=\"text-align: right;\"><span class=\"flagicon\"><a href=\"/wiki/England\" title=\"England\"><img alt=\"England\" class=\"thumbborder\" data-file-height=\"480\" data-file-width=\"800\" height=\"14\" src=\"//upload.wikimedia.org/wikipedia/en/thumb/b/be/Flag_of_England.svg/23px-Flag_of_England.svg.png\" srcset=\"//upload.wikimedia.org/wikipedia/en/thumb/b/be/Flag_of_England.svg/35px-Flag_of_England.svg.png 1.5x, //upload.wikimedia.org/wikipedia/en/thumb/b/be/Flag_of_England.svg/46px-Flag_of_England.svg.png 2x\" width=\"23\"/></a></span>\n",
       "</td>\n",
       "<td style=\"text-align: center;\"><a href=\"/wiki/Midfielder\" title=\"Midfielder\">MF</a>\n",
       "</td>\n",
       "<td><span class=\"fn\"><a href=\"/wiki/Lewis_Cook_(footballer,_born_1997)\" title=\"Lewis Cook (footballer, born 1997)\">Lewis Cook</a></span>\n",
       "</td></tr>\n",
       "<tr class=\"vcard agent\">\n",
       "<td style=\"text-align: right;\">17\n",
       "</td>\n",
       "<td style=\"text-align: right;\"><span class=\"flagicon\"><a href=\"/wiki/Norway\" title=\"Norway\"><img alt=\"Norway\" class=\"thumbborder\" data-file-height=\"800\" data-file-width=\"1100\" height=\"15\" src=\"//upload.wikimedia.org/wikipedia/commons/thumb/d/d9/Flag_of_Norway.svg/21px-Flag_of_Norway.svg.png\" srcset=\"//upload.wikimedia.org/wikipedia/commons/thumb/d/d9/Flag_of_Norway.svg/32px-Flag_of_Norway.svg.png 1.5x, //upload.wikimedia.org/wikipedia/commons/thumb/d/d9/Flag_of_Norway.svg/41px-Flag_of_Norway.svg.png 2x\" width=\"21\"/></a></span>\n",
       "</td>\n",
       "<td style=\"text-align: center;\"><a href=\"/wiki/Forward_(association_football)\" title=\"Forward (association football)\">FW</a>\n",
       "</td>\n",
       "<td><span class=\"fn\"><a href=\"/wiki/Joshua_King_(footballer)\" title=\"Joshua King (footballer)\">Joshua King</a></span>\n",
       "</td></tr>\n",
       "<tr class=\"vcard agent\">\n",
       "<td style=\"text-align: right;\">18\n",
       "</td>\n",
       "<td style=\"text-align: right;\"><span class=\"flagicon\"><a href=\"/wiki/England\" title=\"England\"><img alt=\"England\" class=\"thumbborder\" data-file-height=\"480\" data-file-width=\"800\" height=\"14\" src=\"//upload.wikimedia.org/wikipedia/en/thumb/b/be/Flag_of_England.svg/23px-Flag_of_England.svg.png\" srcset=\"//upload.wikimedia.org/wikipedia/en/thumb/b/be/Flag_of_England.svg/35px-Flag_of_England.svg.png 1.5x, //upload.wikimedia.org/wikipedia/en/thumb/b/be/Flag_of_England.svg/46px-Flag_of_England.svg.png 2x\" width=\"23\"/></a></span>\n",
       "</td>\n",
       "<td style=\"text-align: center;\"><a href=\"/wiki/Forward_(association_football)\" title=\"Forward (association football)\">FW</a>\n",
       "</td>\n",
       "<td><span class=\"fn\"><a href=\"/wiki/Jermain_Defoe\" title=\"Jermain Defoe\">Jermain Defoe</a></span>\n",
       "</td></tr>\n",
       "<tr class=\"vcard agent\">\n",
       "<td style=\"text-align: right;\">19\n",
       "</td>\n",
       "<td style=\"text-align: right;\"><span class=\"flagicon\"><a href=\"/wiki/England\" title=\"England\"><img alt=\"England\" class=\"thumbborder\" data-file-height=\"480\" data-file-width=\"800\" height=\"14\" src=\"//upload.wikimedia.org/wikipedia/en/thumb/b/be/Flag_of_England.svg/23px-Flag_of_England.svg.png\" srcset=\"//upload.wikimedia.org/wikipedia/en/thumb/b/be/Flag_of_England.svg/35px-Flag_of_England.svg.png 1.5x, //upload.wikimedia.org/wikipedia/en/thumb/b/be/Flag_of_England.svg/46px-Flag_of_England.svg.png 2x\" width=\"23\"/></a></span>\n",
       "</td>\n",
       "<td style=\"text-align: center;\"><a href=\"/wiki/Midfielder\" title=\"Midfielder\">MF</a>\n",
       "</td>\n",
       "<td><span class=\"fn\"><a href=\"/wiki/Junior_Stanislas\" title=\"Junior Stanislas\">Junior Stanislas</a></span>\n",
       "</td></tr>\n",
       "<tr class=\"vcard agent\">\n",
       "<td style=\"text-align: right;\">20\n",
       "</td>\n",
       "<td style=\"text-align: right;\"><span class=\"flagicon\"><a href=\"/wiki/Wales\" title=\"Wales\"><img alt=\"Wales\" class=\"thumbborder\" data-file-height=\"498\" data-file-width=\"830\" height=\"14\" src=\"//upload.wikimedia.org/wikipedia/commons/thumb/a/a9/Flag_of_Wales_%281959%E2%80%93present%29.svg/23px-Flag_of_Wales_%281959%E2%80%93present%29.svg.png\" srcset=\"//upload.wikimedia.org/wikipedia/commons/thumb/a/a9/Flag_of_Wales_%281959%E2%80%93present%29.svg/35px-Flag_of_Wales_%281959%E2%80%93present%29.svg.png 1.5x, //upload.wikimedia.org/wikipedia/commons/thumb/a/a9/Flag_of_Wales_%281959%E2%80%93present%29.svg/46px-Flag_of_Wales_%281959%E2%80%93present%29.svg.png 2x\" width=\"23\"/></a></span>\n",
       "</td>\n",
       "<td style=\"text-align: center;\"><a href=\"/wiki/Midfielder\" title=\"Midfielder\">MF</a>\n",
       "</td>\n",
       "<td><span class=\"fn\"><a href=\"/wiki/David_Brooks_(footballer)\" title=\"David Brooks (footballer)\">David Brooks</a></span>\n",
       "</td></tr>\n",
       "<tr class=\"vcard agent\">\n",
       "<td style=\"text-align: right;\">21\n",
       "</td>\n",
       "<td style=\"text-align: right;\"><span class=\"flagicon\"><a href=\"/wiki/Spain\" title=\"Spain\"><img alt=\"Spain\" class=\"thumbborder\" data-file-height=\"500\" data-file-width=\"750\" height=\"15\" src=\"//upload.wikimedia.org/wikipedia/en/thumb/9/9a/Flag_of_Spain.svg/23px-Flag_of_Spain.svg.png\" srcset=\"//upload.wikimedia.org/wikipedia/en/thumb/9/9a/Flag_of_Spain.svg/35px-Flag_of_Spain.svg.png 1.5x, //upload.wikimedia.org/wikipedia/en/thumb/9/9a/Flag_of_Spain.svg/45px-Flag_of_Spain.svg.png 2x\" width=\"23\"/></a></span>\n",
       "</td>\n",
       "<td style=\"text-align: center;\"><a href=\"/wiki/Defender_(association_football)\" title=\"Defender (association football)\">DF</a>\n",
       "</td>\n",
       "<td><span class=\"fn\"><a href=\"/wiki/Diego_Rico\" title=\"Diego Rico\">Diego Rico</a></span>\n",
       "</td></tr>\n",
       "<tr class=\"vcard agent\">\n",
       "<td style=\"text-align: right;\">24\n",
       "</td>\n",
       "<td style=\"text-align: right;\"><span class=\"flagicon\"><a href=\"/wiki/Scotland\" title=\"Scotland\"><img alt=\"Scotland\" class=\"thumbborder\" data-file-height=\"600\" data-file-width=\"1000\" height=\"14\" src=\"//upload.wikimedia.org/wikipedia/commons/thumb/1/10/Flag_of_Scotland.svg/23px-Flag_of_Scotland.svg.png\" srcset=\"//upload.wikimedia.org/wikipedia/commons/thumb/1/10/Flag_of_Scotland.svg/35px-Flag_of_Scotland.svg.png 1.5x, //upload.wikimedia.org/wikipedia/commons/thumb/1/10/Flag_of_Scotland.svg/46px-Flag_of_Scotland.svg.png 2x\" width=\"23\"/></a></span>\n",
       "</td>\n",
       "<td style=\"text-align: center;\"><a href=\"/wiki/Midfielder\" title=\"Midfielder\">MF</a>\n",
       "</td>\n",
       "<td><span class=\"fn\"><a href=\"/wiki/Ryan_Fraser\" title=\"Ryan Fraser\">Ryan Fraser</a></span>\n",
       "</td></tr>\n",
       "<tr class=\"vcard agent\">\n",
       "<td style=\"text-align: right;\">25\n",
       "</td>\n",
       "<td style=\"text-align: right;\"><span class=\"flagicon\"><a href=\"/wiki/England\" title=\"England\"><img alt=\"England\" class=\"thumbborder\" data-file-height=\"480\" data-file-width=\"800\" height=\"14\" src=\"//upload.wikimedia.org/wikipedia/en/thumb/b/be/Flag_of_England.svg/23px-Flag_of_England.svg.png\" srcset=\"//upload.wikimedia.org/wikipedia/en/thumb/b/be/Flag_of_England.svg/35px-Flag_of_England.svg.png 1.5x, //upload.wikimedia.org/wikipedia/en/thumb/b/be/Flag_of_England.svg/46px-Flag_of_England.svg.png 2x\" width=\"23\"/></a></span>\n",
       "</td>\n",
       "<td style=\"text-align: center;\"><a href=\"/wiki/Defender_(association_football)\" title=\"Defender (association football)\">DF</a>\n",
       "</td>\n",
       "<td><span class=\"fn\"><a href=\"/wiki/Jack_Simpson_(footballer)\" title=\"Jack Simpson (footballer)\">Jack Simpson</a></span>\n",
       "</td></tr>\n",
       "<tr class=\"vcard agent\">\n",
       "<td style=\"text-align: right;\">26\n",
       "</td>\n",
       "<td style=\"text-align: right;\"><span class=\"flagicon\"><a href=\"/wiki/England\" title=\"England\"><img alt=\"England\" class=\"thumbborder\" data-file-height=\"480\" data-file-width=\"800\" height=\"14\" src=\"//upload.wikimedia.org/wikipedia/en/thumb/b/be/Flag_of_England.svg/23px-Flag_of_England.svg.png\" srcset=\"//upload.wikimedia.org/wikipedia/en/thumb/b/be/Flag_of_England.svg/35px-Flag_of_England.svg.png 1.5x, //upload.wikimedia.org/wikipedia/en/thumb/b/be/Flag_of_England.svg/46px-Flag_of_England.svg.png 2x\" width=\"23\"/></a></span>\n",
       "</td>\n",
       "<td style=\"text-align: center;\"><a href=\"/wiki/Defender_(association_football)\" title=\"Defender (association football)\">DF</a>\n",
       "</td>\n",
       "<td><span class=\"fn\"><a href=\"/wiki/Tyrone_Mings\" title=\"Tyrone Mings\">Tyrone Mings</a></span>\n",
       "</td></tr>\n",
       "<tr class=\"vcard agent\">\n",
       "<td style=\"text-align: right;\">27\n",
       "</td>\n",
       "<td style=\"text-align: right;\"><span class=\"flagicon\"><a href=\"/wiki/Bosnia_and_Herzegovina\" title=\"Bosnia and Herzegovina\"><img alt=\"Bosnia and Herzegovina\" class=\"thumbborder\" data-file-height=\"400\" data-file-width=\"800\" height=\"12\" src=\"//upload.wikimedia.org/wikipedia/commons/thumb/b/bf/Flag_of_Bosnia_and_Herzegovina.svg/23px-Flag_of_Bosnia_and_Herzegovina.svg.png\" srcset=\"//upload.wikimedia.org/wikipedia/commons/thumb/b/bf/Flag_of_Bosnia_and_Herzegovina.svg/35px-Flag_of_Bosnia_and_Herzegovina.svg.png 1.5x, //upload.wikimedia.org/wikipedia/commons/thumb/b/bf/Flag_of_Bosnia_and_Herzegovina.svg/46px-Flag_of_Bosnia_and_Herzegovina.svg.png 2x\" width=\"23\"/></a></span>\n",
       "</td>\n",
       "<td style=\"text-align: center;\"><a href=\"/wiki/Goalkeeper_(association_football)\" title=\"Goalkeeper (association football)\">GK</a>\n",
       "</td>\n",
       "<td><span class=\"fn\"><a href=\"/wiki/Asmir_Begovi%C4%87\" title=\"Asmir Begović\">Asmir Begović</a></span>\n",
       "</td></tr></tbody></table>\n",
       "</td></tr></tbody></table>"
      ]
     },
     "metadata": {},
     "output_type": "display_data"
    }
   ],
   "source": [
    "# Place the first team page data into bs4\n",
    "soup_club1 = BeautifulSoup(club_data_json[0]['parse']['text']['*'], \"html.parser\")\n",
    "\n",
    "alltables_club1 = soup_club1.findAll(\"table\")\n",
    "\n",
    "html_content = str(alltables_club1[2])\n",
    "display_html(html_content, raw=True)"
   ]
  },
  {
   "cell_type": "code",
   "execution_count": 60,
   "metadata": {
    "collapsed": false
   },
   "outputs": [
    {
     "data": {
      "text/html": [
       "<div>\n",
       "<style>\n",
       "    .dataframe thead tr:only-child th {\n",
       "        text-align: right;\n",
       "    }\n",
       "\n",
       "    .dataframe thead th {\n",
       "        text-align: left;\n",
       "    }\n",
       "\n",
       "    .dataframe tbody tr th {\n",
       "        vertical-align: top;\n",
       "    }\n",
       "</style>\n",
       "<table border=\"1\" class=\"dataframe\">\n",
       "  <thead>\n",
       "    <tr style=\"text-align: right;\">\n",
       "      <th></th>\n",
       "      <th>0</th>\n",
       "      <th>1</th>\n",
       "      <th>2</th>\n",
       "      <th>3</th>\n",
       "    </tr>\n",
       "  </thead>\n",
       "  <tbody>\n",
       "    <tr>\n",
       "      <th>0</th>\n",
       "      <td>No.</td>\n",
       "      <td>NaN</td>\n",
       "      <td>Position</td>\n",
       "      <td>Player</td>\n",
       "    </tr>\n",
       "    <tr>\n",
       "      <th>1</th>\n",
       "      <td>1</td>\n",
       "      <td>NaN</td>\n",
       "      <td>GK</td>\n",
       "      <td>Artur Boruc</td>\n",
       "    </tr>\n",
       "    <tr>\n",
       "      <th>2</th>\n",
       "      <td>2</td>\n",
       "      <td>NaN</td>\n",
       "      <td>DF</td>\n",
       "      <td>Simon Francis (captain)[31]</td>\n",
       "    </tr>\n",
       "    <tr>\n",
       "      <th>3</th>\n",
       "      <td>3</td>\n",
       "      <td>NaN</td>\n",
       "      <td>DF</td>\n",
       "      <td>Steve Cook (2nd vice-captain)</td>\n",
       "    </tr>\n",
       "    <tr>\n",
       "      <th>4</th>\n",
       "      <td>4</td>\n",
       "      <td>NaN</td>\n",
       "      <td>MF</td>\n",
       "      <td>Dan Gosling</td>\n",
       "    </tr>\n",
       "    <tr>\n",
       "      <th>5</th>\n",
       "      <td>5</td>\n",
       "      <td>NaN</td>\n",
       "      <td>DF</td>\n",
       "      <td>Nathan Aké</td>\n",
       "    </tr>\n",
       "    <tr>\n",
       "      <th>6</th>\n",
       "      <td>6</td>\n",
       "      <td>NaN</td>\n",
       "      <td>MF</td>\n",
       "      <td>Andrew Surman (vice-captain)[31]</td>\n",
       "    </tr>\n",
       "    <tr>\n",
       "      <th>7</th>\n",
       "      <td>7</td>\n",
       "      <td>NaN</td>\n",
       "      <td>MF</td>\n",
       "      <td>Marc Pugh</td>\n",
       "    </tr>\n",
       "    <tr>\n",
       "      <th>8</th>\n",
       "      <td>8</td>\n",
       "      <td>NaN</td>\n",
       "      <td>MF</td>\n",
       "      <td>Jefferson Lerma</td>\n",
       "    </tr>\n",
       "    <tr>\n",
       "      <th>9</th>\n",
       "      <td>9</td>\n",
       "      <td>NaN</td>\n",
       "      <td>FW</td>\n",
       "      <td>Lys Mousset</td>\n",
       "    </tr>\n",
       "    <tr>\n",
       "      <th>10</th>\n",
       "      <td>10</td>\n",
       "      <td>NaN</td>\n",
       "      <td>MF</td>\n",
       "      <td>Jordon Ibe</td>\n",
       "    </tr>\n",
       "    <tr>\n",
       "      <th>11</th>\n",
       "      <td>11</td>\n",
       "      <td>NaN</td>\n",
       "      <td>DF</td>\n",
       "      <td>Charlie Daniels</td>\n",
       "    </tr>\n",
       "    <tr>\n",
       "      <th>12</th>\n",
       "      <td>12</td>\n",
       "      <td>NaN</td>\n",
       "      <td>GK</td>\n",
       "      <td>Aaron Ramsdale</td>\n",
       "    </tr>\n",
       "  </tbody>\n",
       "</table>\n",
       "</div>"
      ],
      "text/plain": [
       "      0   1         2                                 3\n",
       "0   No. NaN  Position                            Player\n",
       "1     1 NaN        GK                       Artur Boruc\n",
       "2     2 NaN        DF       Simon Francis (captain)[31]\n",
       "3     3 NaN        DF     Steve Cook (2nd vice-captain)\n",
       "4     4 NaN        MF                       Dan Gosling\n",
       "5     5 NaN        DF                        Nathan Aké\n",
       "6     6 NaN        MF  Andrew Surman (vice-captain)[31]\n",
       "7     7 NaN        MF                         Marc Pugh\n",
       "8     8 NaN        MF                   Jefferson Lerma\n",
       "9     9 NaN        FW                       Lys Mousset\n",
       "10   10 NaN        MF                        Jordon Ibe\n",
       "11   11 NaN        DF                   Charlie Daniels\n",
       "12   12 NaN        GK                    Aaron Ramsdale"
      ]
     },
     "execution_count": 60,
     "metadata": {},
     "output_type": "execute_result"
    }
   ],
   "source": [
    "dfs = pd.read_html(html_content)\n",
    "dfs[1]"
   ]
  },
  {
   "cell_type": "code",
   "execution_count": 61,
   "metadata": {
    "collapsed": false
   },
   "outputs": [
    {
     "data": {
      "text/html": [
       "<div>\n",
       "<style>\n",
       "    .dataframe thead tr:only-child th {\n",
       "        text-align: right;\n",
       "    }\n",
       "\n",
       "    .dataframe thead th {\n",
       "        text-align: left;\n",
       "    }\n",
       "\n",
       "    .dataframe tbody tr th {\n",
       "        vertical-align: top;\n",
       "    }\n",
       "</style>\n",
       "<table border=\"1\" class=\"dataframe\">\n",
       "  <thead>\n",
       "    <tr style=\"text-align: right;\">\n",
       "      <th></th>\n",
       "      <th>0</th>\n",
       "      <th>1</th>\n",
       "      <th>2</th>\n",
       "      <th>3</th>\n",
       "    </tr>\n",
       "  </thead>\n",
       "  <tbody>\n",
       "    <tr>\n",
       "      <th>0</th>\n",
       "      <td>No.</td>\n",
       "      <td>NaN</td>\n",
       "      <td>Position</td>\n",
       "      <td>Player</td>\n",
       "    </tr>\n",
       "    <tr>\n",
       "      <th>1</th>\n",
       "      <td>13</td>\n",
       "      <td>NaN</td>\n",
       "      <td>FW</td>\n",
       "      <td>Callum Wilson</td>\n",
       "    </tr>\n",
       "    <tr>\n",
       "      <th>2</th>\n",
       "      <td>15</td>\n",
       "      <td>NaN</td>\n",
       "      <td>DF</td>\n",
       "      <td>Adam Smith</td>\n",
       "    </tr>\n",
       "    <tr>\n",
       "      <th>3</th>\n",
       "      <td>16</td>\n",
       "      <td>NaN</td>\n",
       "      <td>MF</td>\n",
       "      <td>Lewis Cook</td>\n",
       "    </tr>\n",
       "    <tr>\n",
       "      <th>4</th>\n",
       "      <td>17</td>\n",
       "      <td>NaN</td>\n",
       "      <td>FW</td>\n",
       "      <td>Joshua King</td>\n",
       "    </tr>\n",
       "    <tr>\n",
       "      <th>5</th>\n",
       "      <td>18</td>\n",
       "      <td>NaN</td>\n",
       "      <td>FW</td>\n",
       "      <td>Jermain Defoe</td>\n",
       "    </tr>\n",
       "    <tr>\n",
       "      <th>6</th>\n",
       "      <td>19</td>\n",
       "      <td>NaN</td>\n",
       "      <td>MF</td>\n",
       "      <td>Junior Stanislas</td>\n",
       "    </tr>\n",
       "    <tr>\n",
       "      <th>7</th>\n",
       "      <td>20</td>\n",
       "      <td>NaN</td>\n",
       "      <td>MF</td>\n",
       "      <td>David Brooks</td>\n",
       "    </tr>\n",
       "    <tr>\n",
       "      <th>8</th>\n",
       "      <td>21</td>\n",
       "      <td>NaN</td>\n",
       "      <td>DF</td>\n",
       "      <td>Diego Rico</td>\n",
       "    </tr>\n",
       "    <tr>\n",
       "      <th>9</th>\n",
       "      <td>24</td>\n",
       "      <td>NaN</td>\n",
       "      <td>MF</td>\n",
       "      <td>Ryan Fraser</td>\n",
       "    </tr>\n",
       "    <tr>\n",
       "      <th>10</th>\n",
       "      <td>25</td>\n",
       "      <td>NaN</td>\n",
       "      <td>DF</td>\n",
       "      <td>Jack Simpson</td>\n",
       "    </tr>\n",
       "    <tr>\n",
       "      <th>11</th>\n",
       "      <td>26</td>\n",
       "      <td>NaN</td>\n",
       "      <td>DF</td>\n",
       "      <td>Tyrone Mings</td>\n",
       "    </tr>\n",
       "    <tr>\n",
       "      <th>12</th>\n",
       "      <td>27</td>\n",
       "      <td>NaN</td>\n",
       "      <td>GK</td>\n",
       "      <td>Asmir Begović</td>\n",
       "    </tr>\n",
       "  </tbody>\n",
       "</table>\n",
       "</div>"
      ],
      "text/plain": [
       "      0   1         2                 3\n",
       "0   No. NaN  Position            Player\n",
       "1    13 NaN        FW     Callum Wilson\n",
       "2    15 NaN        DF        Adam Smith\n",
       "3    16 NaN        MF        Lewis Cook\n",
       "4    17 NaN        FW       Joshua King\n",
       "5    18 NaN        FW     Jermain Defoe\n",
       "6    19 NaN        MF  Junior Stanislas\n",
       "7    20 NaN        MF      David Brooks\n",
       "8    21 NaN        DF        Diego Rico\n",
       "9    24 NaN        MF       Ryan Fraser\n",
       "10   25 NaN        DF      Jack Simpson\n",
       "11   26 NaN        DF      Tyrone Mings\n",
       "12   27 NaN        GK     Asmir Begović"
      ]
     },
     "execution_count": 61,
     "metadata": {},
     "output_type": "execute_result"
    }
   ],
   "source": [
    "dfs[2]"
   ]
  },
  {
   "cell_type": "markdown",
   "metadata": {},
   "source": [
    "#### Club official info"
   ]
  },
  {
   "cell_type": "code",
   "execution_count": 79,
   "metadata": {
    "collapsed": false
   },
   "outputs": [
    {
     "data": {
      "text/html": [
       "<div>\n",
       "<style>\n",
       "    .dataframe thead tr:only-child th {\n",
       "        text-align: right;\n",
       "    }\n",
       "\n",
       "    .dataframe thead th {\n",
       "        text-align: left;\n",
       "    }\n",
       "\n",
       "    .dataframe tbody tr th {\n",
       "        vertical-align: top;\n",
       "    }\n",
       "</style>\n",
       "<table border=\"1\" class=\"dataframe\">\n",
       "  <thead>\n",
       "    <tr style=\"text-align: right;\">\n",
       "      <th></th>\n",
       "      <th>Position</th>\n",
       "      <th>Name</th>\n",
       "    </tr>\n",
       "  </thead>\n",
       "  <tbody>\n",
       "    <tr>\n",
       "      <th>0</th>\n",
       "      <td>Chairman</td>\n",
       "      <td>Jeff Mostyn</td>\n",
       "    </tr>\n",
       "    <tr>\n",
       "      <th>1</th>\n",
       "      <td>Chief Executive</td>\n",
       "      <td>Neill Blake</td>\n",
       "    </tr>\n",
       "    <tr>\n",
       "      <th>2</th>\n",
       "      <td>Manager</td>\n",
       "      <td>Eddie Howe</td>\n",
       "    </tr>\n",
       "    <tr>\n",
       "      <th>3</th>\n",
       "      <td>Assistant Manager</td>\n",
       "      <td>Jason Tindall</td>\n",
       "    </tr>\n",
       "    <tr>\n",
       "      <th>4</th>\n",
       "      <td>First Team Coach</td>\n",
       "      <td>Stephen Purches</td>\n",
       "    </tr>\n",
       "    <tr>\n",
       "      <th>5</th>\n",
       "      <td>First Team Coach</td>\n",
       "      <td>Simon Weatherstone</td>\n",
       "    </tr>\n",
       "    <tr>\n",
       "      <th>6</th>\n",
       "      <td>Assistant First Team Coach</td>\n",
       "      <td>Steve Fletcher</td>\n",
       "    </tr>\n",
       "    <tr>\n",
       "      <th>7</th>\n",
       "      <td>Development Squad/U21 Manager</td>\n",
       "      <td>Carl Fletcher</td>\n",
       "    </tr>\n",
       "    <tr>\n",
       "      <th>8</th>\n",
       "      <td>Head Goalkeeper Coach</td>\n",
       "      <td>Neil Moss</td>\n",
       "    </tr>\n",
       "    <tr>\n",
       "      <th>9</th>\n",
       "      <td>First Team Assistant Goalkeeper Coach</td>\n",
       "      <td>Anthony White</td>\n",
       "    </tr>\n",
       "    <tr>\n",
       "      <th>10</th>\n",
       "      <td>Academy Manager</td>\n",
       "      <td>Joe Roach</td>\n",
       "    </tr>\n",
       "    <tr>\n",
       "      <th>11</th>\n",
       "      <td>Youth Team/U18 Manager</td>\n",
       "      <td>Alan Connell</td>\n",
       "    </tr>\n",
       "    <tr>\n",
       "      <th>12</th>\n",
       "      <td>Head of Sports Science</td>\n",
       "      <td>Dan Hodges</td>\n",
       "    </tr>\n",
       "    <tr>\n",
       "      <th>13</th>\n",
       "      <td>Head of Sports Medicine &amp; Physiotherapy</td>\n",
       "      <td>Steve Hard</td>\n",
       "    </tr>\n",
       "    <tr>\n",
       "      <th>14</th>\n",
       "      <td>Head of Performance Analysis</td>\n",
       "      <td>Garvan Stewart</td>\n",
       "    </tr>\n",
       "    <tr>\n",
       "      <th>15</th>\n",
       "      <td>Kit Manager</td>\n",
       "      <td>Duncan Wells</td>\n",
       "    </tr>\n",
       "    <tr>\n",
       "      <th>16</th>\n",
       "      <td>Finance Manager</td>\n",
       "      <td>David Holiday</td>\n",
       "    </tr>\n",
       "  </tbody>\n",
       "</table>\n",
       "</div>"
      ],
      "text/plain": [
       "                                   Position                Name\n",
       "0                                  Chairman         Jeff Mostyn\n",
       "1                           Chief Executive         Neill Blake\n",
       "2                                   Manager          Eddie Howe\n",
       "3                         Assistant Manager       Jason Tindall\n",
       "4                          First Team Coach     Stephen Purches\n",
       "5                          First Team Coach  Simon Weatherstone\n",
       "6                Assistant First Team Coach      Steve Fletcher\n",
       "7             Development Squad/U21 Manager       Carl Fletcher\n",
       "8                     Head Goalkeeper Coach           Neil Moss\n",
       "9     First Team Assistant Goalkeeper Coach       Anthony White\n",
       "10                          Academy Manager           Joe Roach\n",
       "11                   Youth Team/U18 Manager        Alan Connell\n",
       "12                   Head of Sports Science          Dan Hodges\n",
       "13  Head of Sports Medicine & Physiotherapy          Steve Hard\n",
       "14             Head of Performance Analysis      Garvan Stewart\n",
       "15                              Kit Manager        Duncan Wells\n",
       "16                          Finance Manager       David Holiday"
      ]
     },
     "execution_count": 79,
     "metadata": {},
     "output_type": "execute_result"
    }
   ],
   "source": [
    "# Must check the number of columns\n",
    "club1_officials=parse_html_table(alltables_club1[7], alltables_club1[7])\n",
    "club1_officials"
   ]
  },
  {
   "cell_type": "markdown",
   "metadata": {},
   "source": [
    "## Player data\n",
    "\n",
    "Retrieve data on each individual player.\n",
    "\n",
    "What kind of data and what format?\n",
    "\n",
    "### Check for disambiguation page"
   ]
  },
  {
   "cell_type": "code",
   "execution_count": 4,
   "metadata": {
    "collapsed": false
   },
   "outputs": [],
   "source": [
    "TITLE_PLAYER = 'Simon Francis'\n",
    "\n",
    "PARAMS_DISAMB = {\n",
    "    'action': 'query', # the action is to parse the content of the page\n",
    "    'titles': TITLE_PLAYER,\n",
    "    'format': 'json', # the API can return other formats but they are standardising to JSON\n",
    "    'prop': 'categories'\n",
    "}\n",
    "\n",
    "# Get the response data as a python object. \n",
    "R = S.get(url=URL, params=PARAMS_DISAMB)\n",
    "player_1_query = R.json() # Interpret the request data as json: print(type(DATA)) --> <class 'dict'>"
   ]
  },
  {
   "cell_type": "code",
   "execution_count": 5,
   "metadata": {
    "collapsed": false
   },
   "outputs": [],
   "source": [
    "#  Convert to string in order to easily test if contains specific string\n",
    "player_1_query = json.dumps(player_1_query)\n",
    "\n",
    "if 'Category:All disambiguation pages' in player_1_query:\n",
    "    TITLE_PLAYER = TITLE_PLAYER + ' (footballer)'"
   ]
  },
  {
   "cell_type": "code",
   "execution_count": 6,
   "metadata": {
    "collapsed": false
   },
   "outputs": [
    {
     "data": {
      "text/plain": [
       "'Simon Francis (footballer)'"
      ]
     },
     "execution_count": 6,
     "metadata": {},
     "output_type": "execute_result"
    }
   ],
   "source": [
    "TITLE_PLAYER"
   ]
  },
  {
   "cell_type": "markdown",
   "metadata": {},
   "source": [
    "### Retrieve player info\n"
   ]
  },
  {
   "cell_type": "code",
   "execution_count": 211,
   "metadata": {
    "collapsed": false
   },
   "outputs": [],
   "source": [
    "'''\n",
    "PARAMS_PLAYER = {\n",
    "    'action': 'parse', # the action is to parse the content of the page\n",
    "    'page': TITLE_PLAYER,\n",
    "    'format': 'json' # the API can return other formats but they are standardising to JSON\n",
    "}\n",
    "\n",
    "\n",
    "# Get the response data as a python object. \n",
    "R = S.get(url=URL, params=PARAMS_PLAYER)\n",
    "DATA_PLAYER = R.json() # Interpret the request data as json: print(type(DATA)) --> <class 'dict'>\n",
    "\n",
    "# Write to JSON file\n",
    "with open('player_data.json', 'w') as f:\n",
    "    json.dump(DATA_PLAYER, f)\n",
    "'''"
   ]
  },
  {
   "cell_type": "code",
   "execution_count": 7,
   "metadata": {
    "collapsed": true
   },
   "outputs": [],
   "source": [
    "# Read JSON file\n",
    "with open('player_data.json') as data_file:\n",
    "    DATA_PLAYER = json.load(data_file)"
   ]
  },
  {
   "cell_type": "code",
   "execution_count": 8,
   "metadata": {
    "collapsed": false
   },
   "outputs": [
    {
     "data": {
      "text/plain": [
       "dict"
      ]
     },
     "execution_count": 8,
     "metadata": {},
     "output_type": "execute_result"
    }
   ],
   "source": [
    "type(DATA_PLAYER)"
   ]
  },
  {
   "cell_type": "code",
   "execution_count": 9,
   "metadata": {
    "collapsed": false
   },
   "outputs": [],
   "source": [
    "# Place the first team page data into bs4\n",
    "soup_player1 = BeautifulSoup(DATA_PLAYER['parse']['text']['*'], \"html.parser\")\n",
    "\n",
    "alltables_player1 = soup_player1.findAll(\"table\")\n",
    "\n",
    "# Redundent code\n",
    "#html_content = str(alltables_player1[1])\n",
    "#fs_player = pd.read_html(html_content, header = 0, tupleize_cols=True, flavor = 'bs4')"
   ]
  },
  {
   "cell_type": "code",
   "execution_count": 46,
   "metadata": {
    "collapsed": false
   },
   "outputs": [],
   "source": []
  },
  {
   "cell_type": "code",
   "execution_count": null,
   "metadata": {
    "collapsed": false
   },
   "outputs": [],
   "source": []
  },
  {
   "cell_type": "code",
   "execution_count": 19,
   "metadata": {
    "collapsed": true
   },
   "outputs": [],
   "source": [
    "# Source of code: https://stackoverflow.com/questions/28763891/what-should-i-do-when-tr-has-rowspan\n",
    "def pre_process_table(table):\n",
    "    \"\"\"\n",
    "    INPUT:\n",
    "        1. table - a bs4 element that contains the desired table: ie <table> ... </table>\n",
    "    OUTPUT:\n",
    "        a tuple of: \n",
    "            1. rows - a list of table rows ie: list of <tr>...</tr> elements\n",
    "            2. num_rows - number of rows in the table\n",
    "            3. num_cols - number of columns in the table\n",
    "    Options:\n",
    "        include_td_head_count - whether to use only th or th and td to count number of columns (default: False)\n",
    "    \"\"\"\n",
    "    rows = [x for x in table.find_all('tr')]\n",
    "\n",
    "    num_rows = len(rows)\n",
    "\n",
    "    # get an initial column count. Most often, this will be accurate\n",
    "    num_cols = max([len(x.find_all(['th','td'])) for x in rows])\n",
    "\n",
    "    # sometimes, the tables also contain multi-colspan headers. This accounts for that:\n",
    "    header_rows_set = [x.find_all(['th', 'td']) for x in rows if len(x.find_all(['th', 'td']))>num_cols/2]\n",
    "\n",
    "    num_cols_set = []\n",
    "\n",
    "    for header_rows in header_rows_set:\n",
    "        num_cols = 0\n",
    "        for cell in header_rows:\n",
    "            row_span, col_span = get_spans(cell)\n",
    "            num_cols+=len([cell.getText()]*col_span)\n",
    "\n",
    "        num_cols_set.append(num_cols)\n",
    "\n",
    "    num_cols = max(num_cols_set)\n",
    "\n",
    "    return (rows, num_rows, num_cols)\n",
    "\n",
    "\n",
    "def get_spans(cell):\n",
    "        \"\"\"\n",
    "        INPUT:\n",
    "            1. cell - a <td>...</td> or <th>...</th> element that contains a table cell entry\n",
    "        OUTPUT:\n",
    "            1. a tuple with the cell's row and col spans\n",
    "        \"\"\"\n",
    "        if cell.has_attr('rowspan'):\n",
    "            rep_row = int(cell.attrs['rowspan'])\n",
    "        else: # ~cell.has_attr('rowspan'):\n",
    "            rep_row = 1\n",
    "        if cell.has_attr('colspan'):\n",
    "            rep_col = int(cell.attrs['colspan'])\n",
    "        else: # ~cell.has_attr('colspan'):\n",
    "            rep_col = 1 \n",
    "\n",
    "        return (rep_row, rep_col)\n",
    "\n",
    "def process_rows(rows, num_rows, num_cols):\n",
    "    \"\"\"\n",
    "    INPUT:\n",
    "        1. rows - a list of table rows ie <tr>...</tr> elements\n",
    "    OUTPUT:\n",
    "        1. data - a Pandas dataframe with the html data in it\n",
    "    \"\"\"\n",
    "    data = pd.DataFrame(np.ones((num_rows, num_cols))*np.nan)\n",
    "    for i, row in enumerate(rows):\n",
    "        try:\n",
    "            col_stat = data.iloc[i,:][data.iloc[i,:].isnull()].index[0]\n",
    "        except IndexError:\n",
    "            print(i, row)\n",
    "\n",
    "        for j, cell in enumerate(row.find_all(['td', 'th'])):\n",
    "            rep_row, rep_col = get_spans(cell)\n",
    "\n",
    "            #print(\"cols {0} to {1} with rep_col={2}\".format(col_stat, col_stat+rep_col, rep_col))\n",
    "            #print(\"\\trows {0} to {1} with rep_row={2}\".format(i, i+rep_row, rep_row))\n",
    "\n",
    "            #find first non-na col and fill that one\n",
    "            while any(data.iloc[i,col_stat:col_stat+rep_col].notnull()):\n",
    "                col_stat+=1\n",
    "\n",
    "            data.iloc[i:i+rep_row,col_stat:col_stat+rep_col] = cell.getText().strip()\n",
    "            if col_stat<data.shape[1]-1:\n",
    "                col_stat+=rep_col\n",
    "\n",
    "    return data\n",
    "\n",
    "def main(table):\n",
    "    rows, num_rows, num_cols = pre_process_table(table)\n",
    "    df = process_rows(rows, num_rows, num_cols)\n",
    "    return(df)"
   ]
  },
  {
   "cell_type": "code",
   "execution_count": 82,
   "metadata": {
    "collapsed": false
   },
   "outputs": [
    {
     "data": {
      "text/html": [
       "<div>\n",
       "<style>\n",
       "    .dataframe thead tr:only-child th {\n",
       "        text-align: right;\n",
       "    }\n",
       "\n",
       "    .dataframe thead th {\n",
       "        text-align: left;\n",
       "    }\n",
       "\n",
       "    .dataframe tbody tr th {\n",
       "        vertical-align: top;\n",
       "    }\n",
       "</style>\n",
       "<table border=\"1\" class=\"dataframe\">\n",
       "  <thead>\n",
       "    <tr style=\"text-align: right;\">\n",
       "      <th></th>\n",
       "      <th>Club</th>\n",
       "      <th>Season</th>\n",
       "      <th>Division</th>\n",
       "      <th>League - Apps</th>\n",
       "      <th>League - Goals</th>\n",
       "      <th>FA Cup - Apps</th>\n",
       "      <th>FA Cup - Goals</th>\n",
       "      <th>League Cup - Apps</th>\n",
       "      <th>League Cup - Goals</th>\n",
       "      <th>Other - Apps</th>\n",
       "      <th>Other - Goals</th>\n",
       "    </tr>\n",
       "  </thead>\n",
       "  <tbody>\n",
       "    <tr>\n",
       "      <th>0</th>\n",
       "      <td>Bradford City</td>\n",
       "      <td>2002–03</td>\n",
       "      <td>First Division</td>\n",
       "      <td>25</td>\n",
       "      <td>1</td>\n",
       "      <td>0</td>\n",
       "      <td>0</td>\n",
       "      <td>1</td>\n",
       "      <td>0</td>\n",
       "      <td>0</td>\n",
       "      <td>0</td>\n",
       "    </tr>\n",
       "    <tr>\n",
       "      <th>1</th>\n",
       "      <td>Bradford City</td>\n",
       "      <td>2003–04</td>\n",
       "      <td>First Division</td>\n",
       "      <td>30</td>\n",
       "      <td>0</td>\n",
       "      <td>0</td>\n",
       "      <td>0</td>\n",
       "      <td>1</td>\n",
       "      <td>0</td>\n",
       "      <td>0</td>\n",
       "      <td>0</td>\n",
       "    </tr>\n",
       "    <tr>\n",
       "      <th>2</th>\n",
       "      <td>Sheffield United</td>\n",
       "      <td>2003–04</td>\n",
       "      <td>First Division</td>\n",
       "      <td>5</td>\n",
       "      <td>0</td>\n",
       "      <td>0</td>\n",
       "      <td>0</td>\n",
       "      <td>0</td>\n",
       "      <td>0</td>\n",
       "      <td>0</td>\n",
       "      <td>0</td>\n",
       "    </tr>\n",
       "    <tr>\n",
       "      <th>3</th>\n",
       "      <td>Sheffield United</td>\n",
       "      <td>2004–05</td>\n",
       "      <td>Championship</td>\n",
       "      <td>6</td>\n",
       "      <td>0</td>\n",
       "      <td>1</td>\n",
       "      <td>0</td>\n",
       "      <td>0</td>\n",
       "      <td>0</td>\n",
       "      <td>0</td>\n",
       "      <td>0</td>\n",
       "    </tr>\n",
       "    <tr>\n",
       "      <th>4</th>\n",
       "      <td>Sheffield United</td>\n",
       "      <td>2005–06</td>\n",
       "      <td>Championship</td>\n",
       "      <td>1</td>\n",
       "      <td>0</td>\n",
       "      <td>0</td>\n",
       "      <td>0</td>\n",
       "      <td>2</td>\n",
       "      <td>0</td>\n",
       "      <td>0</td>\n",
       "      <td>0</td>\n",
       "    </tr>\n",
       "  </tbody>\n",
       "</table>\n",
       "</div>"
      ],
      "text/plain": [
       "               Club   Season        Division League - Apps League - Goals  \\\n",
       "0     Bradford City  2002–03  First Division            25              1   \n",
       "1     Bradford City  2003–04  First Division            30              0   \n",
       "2  Sheffield United  2003–04  First Division             5              0   \n",
       "3  Sheffield United  2004–05    Championship             6              0   \n",
       "4  Sheffield United  2005–06    Championship             1              0   \n",
       "\n",
       "  FA Cup - Apps FA Cup - Goals League Cup - Apps League Cup - Goals  \\\n",
       "0             0              0                 1                  0   \n",
       "1             0              0                 1                  0   \n",
       "2             0              0                 0                  0   \n",
       "3             1              0                 0                  0   \n",
       "4             0              0                 2                  0   \n",
       "\n",
       "  Other - Apps Other - Goals  \n",
       "0            0             0  \n",
       "1            0             0  \n",
       "2            0             0  \n",
       "3            0             0  \n",
       "4            0             0  "
      ]
     },
     "execution_count": 82,
     "metadata": {},
     "output_type": "execute_result"
    }
   ],
   "source": [
    "table = alltables_player1[1]\n",
    "## run the above functions to extract the data\n",
    "rows, num_rows, num_cols = pre_process_table(table)\n",
    "df = process_rows(rows, num_rows, num_cols)\n",
    "\n",
    "# Re-do the formatting\n",
    "df = df[~df[1].isin(['Total', 'Career total', 'Season'])] # Remove rows containing totals and headers\n",
    "df = df.drop([11, 12], axis = 1) # Remove columns containing totals\n",
    "\n",
    "# Re-do the headers\n",
    "player_cols = ['Club', 'Season','Division', 'League - Apps', 'League - Goals', 'FA Cup - Apps', 'FA Cup - Goals', 'League Cup - Apps', 'League Cup - Goals', 'Other - Apps', 'Other - Goals']\n",
    "df.columns = player_cols # Apply the correct headers\n",
    "\n",
    "# Remove link references from 'Season' column\n",
    "df['Season'] = df['Season'].str.extract(r\"^(\\d{4}–\\d{2})\", expand = False)\n",
    "\n",
    "# TO DO: convert data type of Season column to date/year\n",
    "\n",
    "df = df.reset_index(drop=True)\n",
    "df.head()"
   ]
  },
  {
   "cell_type": "code",
   "execution_count": null,
   "metadata": {
    "collapsed": true
   },
   "outputs": [],
   "source": []
  }
 ],
 "metadata": {
  "anaconda-cloud": {},
  "kernelspec": {
   "display_name": "Python [Root]",
   "language": "python",
   "name": "Python [Root]"
  },
  "language_info": {
   "codemirror_mode": {
    "name": "ipython",
    "version": 3
   },
   "file_extension": ".py",
   "mimetype": "text/x-python",
   "name": "python",
   "nbconvert_exporter": "python",
   "pygments_lexer": "ipython3",
   "version": "3.5.6"
  }
 },
 "nbformat": 4,
 "nbformat_minor": 0
}
